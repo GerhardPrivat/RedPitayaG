{
 "cells": [
  {
   "cell_type": "code",
   "execution_count": null,
   "metadata": {
    "collapsed": true,
    "deletable": true,
    "editable": true
   },
   "outputs": [],
   "source": [
    "from redpitaya import *\n",
    "rp = redpitaya()"
   ]
  },
  {
   "cell_type": "code",
   "execution_count": null,
   "metadata": {
    "collapsed": false,
    "deletable": true,
    "editable": true
   },
   "outputs": [],
   "source": [
    "from math import pi, sin\n",
    "\n",
    "buf_size = rp.AcqGetBufSize()\n",
    "\n",
    "time = [(2*pi)/buf_size*i for i in range(buf_size)]\n",
    "x = [[sin(t) + ((1.0/3.0) * sin(t * 3))           for t in time],\n",
    "     [(1.0/2.0) * sin(t) + (1.0/4.0) * sin(t * 4) for t in time]]\n",
    "\n",
    "amplitude = (0.7, 1.0)\n",
    "frequency = (8000.0, 8000.0)\n",
    "\n",
    "channels = (0, 1)\n",
    "for ch in channels:\n",
    "    rp.GenWaveform   (ch, rp.WAVEFORM_ARBITRARY)\n",
    "    rp.GenArbWaveform(ch, x[ch]);\n",
    "    rp.GenAmp        (ch, amplitude[ch]);\n",
    "    rp.GenFreq       (ch, frequency[ch]);\n",
    "    rp.GenOutEnable  (ch);"
   ]
  },
  {
   "cell_type": "code",
   "execution_count": null,
   "metadata": {
    "collapsed": false,
    "deletable": true,
    "editable": true
   },
   "outputs": [],
   "source": [
    "size = rp.AcqGetBufSize()\n",
    "\n",
    "rp.AcqReset()\n",
    "rp.AcqSetDecimationFactor(1)\n",
    "rp.AcqSetTriggerLevel(0, 0.1)\n",
    "rp.AcqSetPostTriggerDelay(size)\n",
    "\n",
    "# start acquisition process\n",
    "rp.AcqStart()\n",
    "# set trigger source to start acquisition\n",
    "rp.AcqSetTriggerSrc(rp.TRIG_SRC_CHA_PE)\n",
    "# wait in a loop for trigger state to chage from TRIG_STATE_WAITING\n",
    "while rp.AcqGetTriggerSrc():\n",
    "    pass\n",
    "print('triggered')\n",
    "\n",
    "# read data from FPGA FIFO into memory and display it\n",
    "buff = [rp.AcqGetOldestDataV(i, size) for i in channels]"
   ]
  },
  {
   "cell_type": "code",
   "execution_count": null,
   "metadata": {
    "collapsed": false,
    "deletable": true,
    "editable": true
   },
   "outputs": [],
   "source": [
    "from bokeh.io import push_notebook, show, output_notebook\n",
    "from bokeh.models import HoverTool, Range1d\n",
    "from bokeh.plotting import figure\n",
    "output_notebook()\n",
    "\n",
    "N = size\n",
    "x = np.arange(N) / rp.FS\n",
    "\n",
    "colors = ('red', 'blue')\n",
    "hover = HoverTool(mode = 'vline', tooltips=[(\"T\", \"@x\"), (\"V\", \"@y\")])\n",
    "tools = \"pan,wheel_zoom,box_zoom,reset,crosshair\"\n",
    "p = figure(plot_height=400, plot_width=900, title=\"oscilloscope\", toolbar_location=\"above\", tools=(tools, hover))\n",
    "p.xaxis.axis_label='time [s]'\n",
    "p.yaxis.axis_label='voltage [V]'\n",
    "p.y_range=Range1d(-1.2, 1.2)\n",
    "r = [p.line(x, buff[i], line_width=1, line_alpha=0.7, color=colors[i]) for i in channels]\n",
    "\n",
    "# get an explicit handle to update the next show cell with\n",
    "target = show(p, notebook_handle=True)"
   ]
  }
 ],
 "metadata": {
  "kernelspec": {
   "display_name": "Python 3",
   "language": "python",
   "name": "python3"
  },
  "language_info": {
   "codemirror_mode": {
    "name": "ipython",
    "version": 3
   },
   "file_extension": ".py",
   "mimetype": "text/x-python",
   "name": "python",
   "nbconvert_exporter": "python",
   "pygments_lexer": "ipython3",
   "version": "3.5.2"
  }
 },
 "nbformat": 4,
 "nbformat_minor": 2
}
