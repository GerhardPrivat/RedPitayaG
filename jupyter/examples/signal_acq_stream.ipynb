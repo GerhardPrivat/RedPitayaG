{
 "cells": [
  {
   "cell_type": "markdown",
   "metadata": {
    "deletable": true,
    "editable": true
   },
   "source": [
    "# On trigger signal acquisition\n",
    "\n",
    "## Description\n",
    "\n",
    "This example shows how to acquire 16k samples of signal on fast analog inputs.\n",
    "Signal will be acquired when the internal trigger condition is meet.\n",
    "Time length of the acquired signal depends on the time scale of a buffer\n",
    "that can be set with a decimation factor.\n",
    "\n",
    "TODO: describe some calculations\n",
    "\n",
    "## Required hardware\n",
    "\n",
    "- Red Pitaya\n",
    "- Signal (function) generator\n",
    "\n",
    "![wiring diagram](img/generate_continous_signal_on_fast_analog_output.png)"
   ]
  },
  {
   "cell_type": "markdown",
   "metadata": {
    "deletable": true,
    "editable": true
   },
   "source": [
    "The `rp` object is an instance of the `redpitaya` class.\n",
    "When the object is initialized, the FPGA bitstream is loaded and\n",
    "memory mapped FPGA registers are mapped into software.\n",
    "Repeating FPGA bitstream loading will cause all registers to reset,\n",
    "while mapping the memory space multiple times will cause segmentation faults.\n",
    "So untill this issues are handled by the driver\n",
    "a `redpitaya` instance should be created only once."
   ]
  },
  {
   "cell_type": "code",
   "execution_count": null,
   "metadata": {
    "collapsed": false,
    "deletable": true,
    "editable": true
   },
   "outputs": [],
   "source": [
    "from redpitaya import redpitaya\n",
    "rp = redpitaya()"
   ]
  },
  {
   "cell_type": "code",
   "execution_count": null,
   "metadata": {
    "collapsed": false,
    "deletable": true,
    "editable": true
   },
   "outputs": [],
   "source": [
    "# generator configuration\n",
    "rp.GenReset()\n",
    "rp.GenFreq(0, 100000.0)\n",
    "rp.GenAmp(0, 1.0)\n",
    "rp.GenWaveform(0, rp.WAVEFORM_SINE)\n",
    "rp.GenOutEnable(0)"
   ]
  },
  {
   "cell_type": "code",
   "execution_count": null,
   "metadata": {
    "collapsed": false,
    "deletable": true,
    "editable": true
   },
   "outputs": [],
   "source": [
    "# acquisition configuration\n",
    "size = rp.AcqGetBufSize()\n",
    "rp.AcqReset()\n",
    "rp.AcqSetDecimationFactor(1)\n",
    "rp.AcqSetTriggerLevel(0, 0.1)\n",
    "rp.AcqSetPostTriggerDelay(size//2) # place trigger in the middle of the buffer\n",
    "\n",
    "size = 2048\n",
    "channels = (0, 1)\n",
    "\n",
    "# start acquisition process\n",
    "rp.AcqStart()\n",
    "# set trigger source to start acquisition\n",
    "rp.AcqSetTriggerSrc(rp.TRIG_SRC_CHA_PE)\n",
    "# wait in a loop for trigger state to chage from TRIG_STATE_WAITING\n",
    "while rp.AcqGetTriggerSrc():\n",
    "    pass\n",
    "print('triggered')\n",
    "\n",
    "# read data from FPGA FIFO into memory and display it\n",
    "buff = [rp.AcqGetOldestDataV(ch, size) for ch in channels];"
   ]
  },
  {
   "cell_type": "code",
   "execution_count": null,
   "metadata": {
    "collapsed": false,
    "deletable": true,
    "editable": true
   },
   "outputs": [],
   "source": [
    "import time\n",
    "import numpy as np\n",
    "\n",
    "from bokeh.io import push_notebook, show, output_notebook\n",
    "from bokeh.models import HoverTool, Range1d\n",
    "from bokeh.plotting import figure\n",
    "from bokeh.resources import INLINE \n",
    "output_notebook(resources=INLINE)"
   ]
  },
  {
   "cell_type": "code",
   "execution_count": null,
   "metadata": {
    "collapsed": false,
    "deletable": true,
    "editable": true,
    "scrolled": false
   },
   "outputs": [],
   "source": [
    "N = size\n",
    "x = np.arange(N) / rp.FS\n",
    "\n",
    "colors = ('red', 'blue')\n",
    "hover = HoverTool(mode = 'vline', tooltips=[(\"T\", \"@x\"), (\"V\", \"@y\")])\n",
    "tools = \"pan,wheel_zoom,box_zoom,reset,crosshair\"\n",
    "p = figure(plot_height=500, plot_width=900, title=\"oscilloscope\", toolbar_location=\"above\", tools=(tools, hover))\n",
    "p.xaxis.axis_label='time [s]'\n",
    "p.yaxis.axis_label='voltage [V]'\n",
    "p.y_range=Range1d(-1.2, 1.2)\n",
    "r = [p.line(x, buff[i], line_width=1, line_alpha=0.7, color=colors[i]) for i in channels]\n",
    "\n",
    "# get an explicit handle to update the next show cell with\n",
    "target = show(p, notebook_handle=True)"
   ]
  },
  {
   "cell_type": "code",
   "execution_count": null,
   "metadata": {
    "collapsed": false,
    "deletable": true,
    "editable": true
   },
   "outputs": [],
   "source": [
    "while True:\n",
    "    rp.AcqStart()\n",
    "    rp.AcqSetTriggerSrc(rp.TRIG_SRC_CHA_PE)\n",
    "    while rp.AcqGetTriggerSrc(): pass\n",
    "    buff = [rp.AcqGetOldestDataV(ch, size) for ch in channels];\n",
    "#    buff = np.absolute(np.fft.fft(buff))\n",
    "    for i in channels:\n",
    "        r[i].data_source.data['y'] = buff[i]\n",
    "    rp.AcqStart()\n",
    "    # push updates to the plot continuously using the handle (intererrupt the notebook kernel to stop)\n",
    "    push_notebook(handle=target)\n",
    "#    time.sleep(0.05)"
   ]
  },
  {
   "cell_type": "code",
   "execution_count": null,
   "metadata": {
    "collapsed": true,
    "deletable": true,
    "editable": true
   },
   "outputs": [],
   "source": []
  }
 ],
 "metadata": {
  "kernelspec": {
   "display_name": "Python 3",
   "language": "python",
   "name": "python3"
  },
  "language_info": {
   "codemirror_mode": {
    "name": "ipython",
    "version": 3
   },
   "file_extension": ".py",
   "mimetype": "text/x-python",
   "name": "python",
   "nbconvert_exporter": "python",
   "pygments_lexer": "ipython3",
   "version": "3.5.2"
  }
 },
 "nbformat": 4,
 "nbformat_minor": 2
}
