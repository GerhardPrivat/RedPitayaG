{
 "cells": [
  {
   "cell_type": "markdown",
   "metadata": {
    "deletable": true,
    "editable": true
   },
   "source": [
    "# XADC\n",
    "\n",
    "This example provides access to slow analog inputs on the E2 connector. Measurements are performed by the integrated Zynq XADC.\n",
    "\n",
    "The XADC hardware is connected to the CPU over JTAG and the AXI4 bus. Each of this connections is supported by a IIO Linux kernel driver. The AXI4 driver provides more features. `libiio` is here used to interface with the AXI4 driver.\n",
    "\n",
    "`libiio` should be updated to version 0.9 which provides native Python 3 bindings.\n",
    "For now custumized bindings in the `iio.py` file are used."
   ]
  },
  {
   "cell_type": "code",
   "execution_count": null,
   "metadata": {
    "collapsed": false,
    "deletable": true,
    "editable": true
   },
   "outputs": [],
   "source": [
    "import iio\n",
    "\n",
    "ctx = iio.Context()\n",
    "dev = ctx.devices[3]\n",
    "\n",
    "for chn in dev.channels:\n",
    "    print ('{}: {} ({})'.format(chn.id, chn.name if chn.name else \"\", 'output' if chn.output else 'input'))\n",
    "    raw    = chn.attrs['raw'].value\n",
    "    scale  = chn.attrs['scale'].value\n",
    "    if len(chn.attrs) == 6:\n",
    "        offset = chn.attrs[b'offset'].value.decode()\n",
    "        print ('\\t({}+{})*{}/1000={}'.format(raw, offset, scale, (int(raw)+int(offset))*float(scale)/1000))\n",
    "    else:\n",
    "        print ('\\t{}*{}/1000={}'.format(raw, scale, int(raw)*float(scale)/1000))"
   ]
  },
  {
   "cell_type": "markdown",
   "metadata": {
    "deletable": true,
    "editable": true
   },
   "source": [
    "A simplple function can be used to combine the steps needed to get the input voltage on analog channels."
   ]
  },
  {
   "cell_type": "code",
   "execution_count": null,
   "metadata": {
    "collapsed": false,
    "deletable": true,
    "editable": true
   },
   "outputs": [],
   "source": [
    "channels = [dev.find_channel(name) for name in ('vaux0', 'vaux1', 'vaux8', 'vaux9')]\n",
    "chn = len(channels)\n",
    "\n",
    "def AIpinGetValue (channel):\n",
    "    chn    = channels[channel]\n",
    "    raw    = chn.attrs['raw'].value\n",
    "    scale  = chn.attrs['scale'].value\n",
    "    # resistor divider\n",
    "    resdiv = 4.99 / (30.0 + 4.99)\n",
    "    return (int(raw)*float(scale)/1000 / resdiv)\n",
    "\n",
    "for i in range(chn):\n",
    "    print(\"Measured voltage on AI[{}] = {} V\".format(i, AIpinGetValue(i)))"
   ]
  },
  {
   "cell_type": "markdown",
   "metadata": {
    "deletable": true,
    "editable": true
   },
   "source": [
    "## Measurement logging\n",
    "\n",
    "This example is using a Pyhon list for the data sequence, which can become a performance issue for large data sets.\n",
    "\n",
    "A better implementation would use a fixed `numpy` array for display data, and the rest of the data would be stored into a file."
   ]
  },
  {
   "cell_type": "code",
   "execution_count": null,
   "metadata": {
    "collapsed": false,
    "deletable": true,
    "editable": true
   },
   "outputs": [],
   "source": [
    "import time\n",
    "import numpy as np\n",
    "\n",
    "from bokeh.io import push_notebook, show, output_notebook\n",
    "from bokeh.models import HoverTool, Range1d\n",
    "from bokeh.plotting import figure\n",
    "from bokeh.resources import INLINE \n",
    "output_notebook(resources=INLINE)"
   ]
  },
  {
   "cell_type": "code",
   "execution_count": null,
   "metadata": {
    "collapsed": false,
    "deletable": true,
    "editable": true
   },
   "outputs": [],
   "source": [
    "x = [0]\n",
    "y = [[AIpinGetValue(ch)] for ch in range(chn)]\n",
    "\n",
    "colors = ('red', 'blue', 'green', 'orange')\n",
    "hover = HoverTool(mode = 'vline', tooltips=[(\"T\", \"@x\"), (\"V\", \"@y\")])\n",
    "tools = \"pan,wheel_zoom,box_zoom,reset,crosshair\"\n",
    "p = figure(plot_height=400, plot_width=900, title=\"XADC log\", toolbar_location=\"above\", tools=(tools, hover))\n",
    "p.xaxis.axis_label='time [s]'\n",
    "p.y_range=Range1d(0, 5)\n",
    "p.yaxis.axis_label='voltage [V]'\n",
    "r = [p.line(x, y[ch], line_width=1, line_alpha=0.7, color=colors[ch], legend=\"AI \"+str(ch)) for ch in range(chn)]\n",
    "\n",
    "# get and explicit handle to update the next show cell with\n",
    "target = show(p, notebook_handle=True)"
   ]
  },
  {
   "cell_type": "markdown",
   "metadata": {
    "deletable": true,
    "editable": true
   },
   "source": [
    "A sample is taken every `T` seconds.\n",
    "This implementation suffers from time drift,\n",
    "since the actual period is larger than `T`\n",
    "by the time it takes to execute the rest of the loop."
   ]
  },
  {
   "cell_type": "code",
   "execution_count": null,
   "metadata": {
    "collapsed": false,
    "deletable": true,
    "editable": true
   },
   "outputs": [],
   "source": [
    "T = 1\n",
    "#while True:\n",
    "for i in range(200):\n",
    "    x.append(x[-1]+T)\n",
    "    for ch in range(chn):\n",
    "        r[ch].data_source.data['y'].append(AIpinGetValue(ch))\n",
    "    # push updates to the plot continuously using the handle (intererrupt the notebook kernel to stop)\n",
    "    push_notebook(handle=target)\n",
    "    time.sleep(T)"
   ]
  }
 ],
 "metadata": {
  "kernelspec": {
   "display_name": "Python 3",
   "language": "python",
   "name": "python3"
  },
  "language_info": {
   "codemirror_mode": {
    "name": "ipython",
    "version": 3
   },
   "file_extension": ".py",
   "mimetype": "text/x-python",
   "name": "python",
   "nbconvert_exporter": "python",
   "pygments_lexer": "ipython3",
   "version": "3.5.2"
  }
 },
 "nbformat": 4,
 "nbformat_minor": 2
}
