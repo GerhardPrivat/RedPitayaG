{
 "cells": [
  {
   "cell_type": "markdown",
   "metadata": {},
   "source": [
    "# Periphery\n",
    "\n",
    "Access to Red Pitaya peryphery like GPIO, LED, I2C, SPI, UART is\n",
    "impelemnted by the [python-periphery](https://pypi.python.org/pypi/python-periphery) python module."
   ]
  },
  {
   "cell_type": "code",
   "execution_count": null,
   "metadata": {
    "collapsed": false
   },
   "outputs": [],
   "source": [
    "from periphery import __version__\n",
    "print (__version__)"
   ]
  },
  {
   "cell_type": "markdown",
   "metadata": {},
   "source": [
    "# GPIO\n",
    "\n",
    "GPIO access is implemented through [`sysfs`](https://www.kernel.org/doc/Documentation/gpio/sysfs.txt) Linux kernel interface\n",
    "provided by the [GPIO subsystem](https://www.kernel.org/doc/Documentation/gpio/gpio.txt).\n",
    "\n",
    "A new [user space ABI for GPIO](https://git.kernel.org/cgit/linux/kernel/git/linusw/linux-gpio.git/tree/include/uapi/linux/gpio.h?h=for-next)\n",
    "is coming in kernel v4.8, ioctl will be used instead of ``sysfs``.\n",
    "The new driver will allow for seting multiple GPIO signals simultaneously."
   ]
  },
  {
   "cell_type": "code",
   "execution_count": null,
   "metadata": {
    "collapsed": false
   },
   "outputs": [],
   "source": [
    "from periphery import GPIO\n",
    "\n",
    "# Open exp_p_io[0:7] as outputs\n",
    "gpios_i = [GPIO(968+i, \"in\") for i in range(8)]\n",
    "\n",
    "# Open exp_n_io[0:7] as inputs\n",
    "gpios_o = [GPIO(976+i, \"out\") for i in range(8)]\n",
    "\n",
    "# copy input values to outputs\n",
    "for i in range(8):\n",
    "    value = gpios_i[i].read()\n",
    "    gpios_o[i].write(value)\n",
    "\n",
    "# close GPIO files\n",
    "for i in range(8):\n",
    "    gpios_i[i].close()\n",
    "    gpios_o[i].close()"
   ]
  },
  {
   "cell_type": "markdown",
   "metadata": {},
   "source": [
    "# LED\n",
    "\n",
    "LED access is implemented throuhg the `sysfs` Linux kernel interface\n",
    "provided by the [LED subsystem](https://www.kernel.org/doc/Documentation/leds/leds-class.txt).\n",
    "\n",
    "Maybe some day the userspace LED interface might be considered\n",
    "(Linux kernel patches v4\n",
    "[1/3](https://patchwork.kernel.org/patch/9336461/)\n",
    "[2/3](https://patchwork.kernel.org/patch/9336463/)\n",
    "[3/3](https://patchwork.kernel.org/patch/9336459/))\n"
   ]
  },
  {
   "cell_type": "code",
   "execution_count": null,
   "metadata": {
    "collapsed": false
   },
   "outputs": [],
   "source": [
    "from periphery import LED\n",
    "\n",
    "# Open LED led[0:7] with initial brightness=0\n",
    "leds = [LED(\"led\"+str(led), 0) for led in range(8)]"
   ]
  },
  {
   "cell_type": "code",
   "execution_count": null,
   "metadata": {
    "collapsed": false
   },
   "outputs": [],
   "source": [
    "# turn ON all LEDs\n",
    "for led in leds:\n",
    "    led.write(1)"
   ]
  },
  {
   "cell_type": "code",
   "execution_count": null,
   "metadata": {
    "collapsed": true
   },
   "outputs": [],
   "source": [
    "# turn OFF all LEDs\n",
    "for led in leds:\n",
    "    led.write(0)"
   ]
  },
  {
   "cell_type": "code",
   "execution_count": null,
   "metadata": {
    "collapsed": true
   },
   "outputs": [],
   "source": [
    "for led in leds:\n",
    "    led.close()"
   ]
  },
  {
   "cell_type": "markdown",
   "metadata": {
    "collapsed": true
   },
   "source": [
    "# I2C\n",
    "\n",
    "I2C access is implemented throuhg the device provided by the\n",
    "Linux kernel [I2C subsystem](https://www.kernel.org/doc/Documentation/i2c/dev-interface).\n",
    "Only the basic file read/write interface is provided, SMBus calls are not supported."
   ]
  },
  {
   "cell_type": "code",
   "execution_count": null,
   "metadata": {
    "collapsed": false
   },
   "outputs": [],
   "source": [
    "from periphery import I2C\n",
    "\n",
    "# Open i2c-0 controller\n",
    "i2c = I2C(\"/dev/i2c-0\")\n",
    "\n",
    "# Read byte at address 0x100 of EEPROM at 0x50\n",
    "msgs = [I2C.Message([0x00, 0x00]), I2C.Message([0x00]*4*1024, read=True)]\n",
    "i2c.transfer(0x50, msgs)\n",
    "print(msgs[1].data)\n",
    "\n",
    "i2c.close()"
   ]
  }
 ],
 "metadata": {
  "kernelspec": {
   "display_name": "Python 3",
   "language": "python",
   "name": "python3"
  },
  "language_info": {
   "codemirror_mode": {
    "name": "ipython",
    "version": 3
   },
   "file_extension": ".py",
   "mimetype": "text/x-python",
   "name": "python",
   "nbconvert_exporter": "python",
   "pygments_lexer": "ipython3",
   "version": "3.5.2"
  }
 },
 "nbformat": 4,
 "nbformat_minor": 2
}
